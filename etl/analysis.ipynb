{
 "cells": [
  {
   "cell_type": "code",
   "execution_count": 400,
   "metadata": {},
   "outputs": [],
   "source": [
    "import pyspark.sql.functions as F\n",
    "from pyspark.sql.window import Window\n",
    "from pyspark.sql.functions import col, row_number\n",
    "from pyspark.sql import SparkSession"
   ]
  },
  {
   "attachments": {},
   "cell_type": "markdown",
   "metadata": {},
   "source": [
    "#### **Functions**\n",
    "\n",
    "- `select()` - seleciona colunas\n",
    "- `filter()` - filtra linhas"
   ]
  },
  {
   "cell_type": "code",
   "execution_count": 401,
   "metadata": {},
   "outputs": [],
   "source": [
    "spark = SparkSession.builder \\\n",
    "    .master(\"local\") \\\n",
    "    .appName(\"RoadTracker\") \\\n",
    "    .config(\"spark.driver.memory\", \"8g\") \\\n",
    "    .config(\"spark.executor.cores\", \"4\") \\\n",
    "    .getOrCreate()"
   ]
  },
  {
   "cell_type": "code",
   "execution_count": 402,
   "metadata": {},
   "outputs": [],
   "source": [
    "# load the data\n",
    "df = spark.read.csv(\"all_roads.csv\", header=True, inferSchema=True)"
   ]
  },
  {
   "cell_type": "code",
   "execution_count": 403,
   "metadata": {},
   "outputs": [
    {
     "name": "stdout",
     "output_type": "stream",
     "text": [
      "Number of roads: 5\n"
     ]
    }
   ],
   "source": [
    "# analise 1\n",
    "n_roads = df.select(\"road\").distinct().count()\n",
    "print(\"Number of roads: {}\".format(n_roads))"
   ]
  },
  {
   "cell_type": "code",
   "execution_count": 404,
   "metadata": {},
   "outputs": [
    {
     "name": "stdout",
     "output_type": "stream",
     "text": [
      "Number of cars: 376\n"
     ]
    }
   ],
   "source": [
    "# analise 2\n",
    "n_cars = df.select(\"plate\").distinct().count()\n",
    "print(\"Number of cars: {}\".format(n_cars))"
   ]
  },
  {
   "cell_type": "code",
   "execution_count": 405,
   "metadata": {},
   "outputs": [],
   "source": [
    "# CALCULATE SPEED AND ACCELERATION\n",
    "\n",
    "windowDept = Window.partitionBy(\"plate\").orderBy(\"time\")\n",
    "\n",
    "df = df.withColumn(\"row\",row_number().over(windowDept)) \\\n",
    "        .filter(col(\"row\") <= 3)\n",
    "\n",
    "# calculo da velocidade\n",
    "df = df.withColumn(\"speed\", F.col(\"x\") - F.lag(\"x\", 1).over(windowDept))\n",
    "\n",
    "# make all values positive\n",
    "df = df.withColumn(\"speed\", F.abs(F.col(\"speed\")))\n",
    "\n",
    "# calculo da aceleracao\n",
    "df = df.withColumn(\"acc\", F.col(\"speed\") - F.lag(\"speed\", 1).over(windowDept))\n",
    "\n",
    "# drop null values\n",
    "df = df.na.drop()\n",
    "\n",
    "# drop row column\n",
    "df = df.drop(\"row\")"
   ]
  },
  {
   "cell_type": "code",
   "execution_count": 406,
   "metadata": {},
   "outputs": [
    {
     "name": "stdout",
     "output_type": "stream",
     "text": [
      "Number of cars over the speed limit: 25\n"
     ]
    }
   ],
   "source": [
    "# analise 3\n",
    "\n",
    "# add a column for the cars over the speed limit\n",
    "df = df.withColumn(\"over_speed_limit\", F.when(F.col(\"speed\") > F.col(\"road_speed\"), 1).otherwise(0))\n",
    "\n",
    "cars_over_speed_limit = df.filter(F.col(\"over_speed_limit\") == 1) \\\n",
    "    .select(\"plate\").distinct().count()\n",
    "\n",
    "print(\"Number of cars over the speed limit: {}\".format(cars_over_speed_limit))"
   ]
  },
  {
   "cell_type": "code",
   "execution_count": 407,
   "metadata": {},
   "outputs": [
    {
     "name": "stdout",
     "output_type": "stream",
     "text": [
      "+-----+----------+---+---+-----+--------------------+---------+-----+----+----------------+--------------+\n",
      "| road|road_speed|  x|  y|plate|                time|direction|speed| acc|over_speed_limit|collision_risk|\n",
      "+-----+----------+---+---+-----+--------------------+---------+-----+----+----------------+--------------+\n",
      "|road0|       120|245|  0|PQ888|  1.68635273702827E9|        1|   81|  -1|               0|             0|\n",
      "|road0|       120|304|  0|EZ328|1.6863529667917545E9|        1|   79|   2|               0|             0|\n",
      "|road0|       120|329|  0|FR314| 1.686352775019318E9|        1|   97| -19|               0|             0|\n",
      "|road0|       120|180|  1|IB083|1.6863527141156032E9|        1|    0| -90|               0|             0|\n",
      "|road0|       120|180|  1|JI520| 1.686352690013728E9|        1|    0| -79|               0|             0|\n",
      "|road0|       120|180|  1|JX514|1.6863529015628111E9|        1|   38| -33|               0|             1|\n",
      "|road0|       120|180|  1|UC307|1.6863527465091918E9|        1|    0| -85|               0|             0|\n",
      "|road0|       120|186|  1|AS798|1.6863525914924247E9|        1|   64|   3|               0|             1|\n",
      "|road0|       120|232|  1|RK717|1.6863526888993986E9|        1|    0|-116|               0|             0|\n",
      "|road0|       120|236|  1|VE532|1.6863526871933239E9|        1|   80|   2|               0|             1|\n",
      "|road0|       120|238|  1|JN617|1.6863526175527167E9|        1|   78|  -2|               0|             0|\n",
      "|road0|       120|320|  1|ON434| 1.686352637811218E9|        1|  100| -10|               0|             1|\n",
      "|road0|       120|320|  1|YF731|1.6863526612045372E9|        1|   86| -31|               0|             0|\n",
      "|road0|       120|211|  2|RJ407|1.6863525927262077E9|        1|   69|  -2|               0|             0|\n",
      "|road0|       120|346|  2|HM832| 1.686352661040558E9|        1|  108| -11|               0|             0|\n",
      "|road0|       120|185|  3|JD239|1.6863526034433262E9|        1|   61|  -1|               0|             0|\n",
      "|road0|       120|250|  3|BP708|1.6863529678487418E9|        1|   56| -41|               0|             0|\n",
      "|road0|       120|250|  3|NV553|1.6863526604413307E9|        1|   28| -83|               0|             0|\n",
      "|road0|       120|250|  3|UO532|1.6863526188910086E9|        1|   62| -32|               0|             1|\n",
      "|road0|       120|250|  3|WZ526|1.6863527140085096E9|        1|   44| -59|               0|             0|\n",
      "+-----+----------+---+---+-----+--------------------+---------+-----+----+----------------+--------------+\n",
      "only showing top 20 rows\n",
      "\n"
     ]
    }
   ],
   "source": [
    "# analise 4\n",
    "windowDept = Window.partitionBy(\"road\", \"y\").orderBy(\"x\")\n",
    "\n",
    "# calcula o risco de colisao fazendo posicao + (velocidade * direcao)\n",
    "\n",
    "# essa versao funciona, mas adiciona o risco de colisao em carros diferentes dependendo de forward ou backward\n",
    "#df = df.withColumn(\"collision_risk\",\n",
    "                #F.when((F.col(\"x\") + (F.col(\"speed\") * F.col(\"direction\"))) > (F.lag(\"x\", -1).over(windowDept) + (F.lag(\"speed\", -1).over(windowDept) * F.lag(\"direction\", -1).over(windowDept))), 1).otherwise(0))\n",
    "\n",
    "# essa versao padroniza           \n",
    "df = df.withColumn(\"collision_risk\",\n",
    "                   F.when(F.col(\"direction\") == 1,\n",
    "                          F.when((F.col(\"x\") + F.col(\"speed\") + F.col(\"acc\")) > (F.lag(\"x\", -1).over(windowDept) + F.lag(\"speed\", -1).over(windowDept) + F.lag(\"acc\").over(windowDept)), 1).otherwise(0)) \\\n",
    "                   .otherwise(F.when((F.col(\"x\") - F.col(\"speed\") - F.col(\"acc\")) < (F.lag(\"x\", 1).over(windowDept) - F.lag(\"speed\", 1).over(windowDept) - F.lag(\"acc\", 1).over(windowDept)), 1).otherwise(0)))\n",
    "\n",
    "df.show()"
   ]
  },
  {
   "cell_type": "code",
   "execution_count": 408,
   "metadata": {},
   "outputs": [
    {
     "data": {
      "text/plain": [
       "[Row(plate='ET433', speed=184, collision_risk=0),\n",
       " Row(plate='HP247', speed=244, collision_risk=0),\n",
       " Row(plate='GZ591', speed=139, collision_risk=1),\n",
       " Row(plate='IU587', speed=129, collision_risk=0),\n",
       " Row(plate='ID323', speed=215, collision_risk=0),\n",
       " Row(plate='NM411', speed=122, collision_risk=0),\n",
       " Row(plate='LV494', speed=292, collision_risk=0),\n",
       " Row(plate='YC366', speed=123, collision_risk=1),\n",
       " Row(plate='TY900', speed=229, collision_risk=0),\n",
       " Row(plate='GM508', speed=222, collision_risk=0),\n",
       " Row(plate='NZ969', speed=163, collision_risk=1),\n",
       " Row(plate='UO112', speed=160, collision_risk=1),\n",
       " Row(plate='EA748', speed=186, collision_risk=0),\n",
       " Row(plate='CY559', speed=192, collision_risk=0),\n",
       " Row(plate='JZ803', speed=195, collision_risk=0),\n",
       " Row(plate='GR947', speed=149, collision_risk=1),\n",
       " Row(plate='JC218', speed=130, collision_risk=0),\n",
       " Row(plate='DR897', speed=194, collision_risk=0),\n",
       " Row(plate='YQ410', speed=121, collision_risk=0),\n",
       " Row(plate='BY889', speed=222, collision_risk=0),\n",
       " Row(plate='TT050', speed=121, collision_risk=0),\n",
       " Row(plate='IS352', speed=206, collision_risk=0),\n",
       " Row(plate='GX648', speed=258, collision_risk=0),\n",
       " Row(plate='RU614', speed=198, collision_risk=1),\n",
       " Row(plate='ZW616', speed=152, collision_risk=1)]"
      ]
     },
     "execution_count": 408,
     "metadata": {},
     "output_type": "execute_result"
    }
   ],
   "source": [
    "# analise 5\n",
    "CollectionOverSpeedLimit = df.filter(F.col(\"over_speed_limit\") == 1) \\\n",
    "                        .select(\"plate\", \"speed\", \"collision_risk\") \\\n",
    "                        .collect()\n",
    "\n",
    "CollectionOverSpeedLimit"
   ]
  },
  {
   "cell_type": "code",
   "execution_count": 409,
   "metadata": {},
   "outputs": [
    {
     "data": {
      "text/plain": [
       "[Row(plate='JX514', speed=38),\n",
       " Row(plate='AS798', speed=64),\n",
       " Row(plate='VE532', speed=80),\n",
       " Row(plate='ON434', speed=100),\n",
       " Row(plate='UO532', speed=62),\n",
       " Row(plate='XR890', speed=42),\n",
       " Row(plate='GZ591', speed=139),\n",
       " Row(plate='QD121', speed=87),\n",
       " Row(plate='DI502', speed=78),\n",
       " Row(plate='VD703', speed=104),\n",
       " Row(plate='RE570', speed=85),\n",
       " Row(plate='JS190', speed=7),\n",
       " Row(plate='JK057', speed=51),\n",
       " Row(plate='OM442', speed=117),\n",
       " Row(plate='YC366', speed=123),\n",
       " Row(plate='DL870', speed=0),\n",
       " Row(plate='ZU140', speed=51),\n",
       " Row(plate='BN401', speed=78),\n",
       " Row(plate='CH216', speed=0),\n",
       " Row(plate='MF916', speed=98),\n",
       " Row(plate='NZ969', speed=163),\n",
       " Row(plate='GR449', speed=108),\n",
       " Row(plate='UO112', speed=160),\n",
       " Row(plate='OC533', speed=51),\n",
       " Row(plate='CD052', speed=61),\n",
       " Row(plate='YS335', speed=96),\n",
       " Row(plate='KG211', speed=77),\n",
       " Row(plate='BW650', speed=71),\n",
       " Row(plate='HB781', speed=41),\n",
       " Row(plate='LQ019', speed=61),\n",
       " Row(plate='TL030', speed=93),\n",
       " Row(plate='MS485', speed=0),\n",
       " Row(plate='RT758', speed=0),\n",
       " Row(plate='SG960', speed=0),\n",
       " Row(plate='YV722', speed=0),\n",
       " Row(plate='XK897', speed=61),\n",
       " Row(plate='NL210', speed=0),\n",
       " Row(plate='UL671', speed=0),\n",
       " Row(plate='YJ375', speed=10),\n",
       " Row(plate='GR547', speed=0),\n",
       " Row(plate='EB166', speed=57),\n",
       " Row(plate='LJ081', speed=61),\n",
       " Row(plate='WR877', speed=93),\n",
       " Row(plate='EN473', speed=60),\n",
       " Row(plate='KT658', speed=46),\n",
       " Row(plate='GR947', speed=149),\n",
       " Row(plate='CK300', speed=115),\n",
       " Row(plate='PP337', speed=119),\n",
       " Row(plate='SH461', speed=87),\n",
       " Row(plate='FZ585', speed=85),\n",
       " Row(plate='NQ627', speed=73),\n",
       " Row(plate='QW704', speed=99),\n",
       " Row(plate='RK987', speed=70),\n",
       " Row(plate='IR238', speed=0),\n",
       " Row(plate='KV195', speed=0),\n",
       " Row(plate='LG633', speed=22),\n",
       " Row(plate='OD406', speed=0),\n",
       " Row(plate='PE641', speed=61),\n",
       " Row(plate='RB025', speed=66),\n",
       " Row(plate='YB503', speed=0),\n",
       " Row(plate='WI443', speed=92),\n",
       " Row(plate='XP266', speed=106),\n",
       " Row(plate='FH744', speed=0),\n",
       " Row(plate='MY461', speed=60),\n",
       " Row(plate='RU614', speed=198),\n",
       " Row(plate='ZW616', speed=152),\n",
       " Row(plate='GH578', speed=63),\n",
       " Row(plate='PM870', speed=0),\n",
       " Row(plate='QX014', speed=0),\n",
       " Row(plate='ZJ160', speed=67),\n",
       " Row(plate='GN874', speed=84),\n",
       " Row(plate='LB900', speed=0),\n",
       " Row(plate='OD400', speed=83),\n",
       " Row(plate='TB827', speed=0),\n",
       " Row(plate='VZ392', speed=40),\n",
       " Row(plate='VP392', speed=61)]"
      ]
     },
     "execution_count": 409,
     "metadata": {},
     "output_type": "execute_result"
    }
   ],
   "source": [
    "# analise 6\n",
    "CollectionCollisionRisk = df.filter(F.col(\"collision_risk\") == 1) \\\n",
    "                .select(\"plate\", \"speed\") \\\n",
    "                .collect()\n",
    "                \n",
    "CollectionCollisionRisk"
   ]
  }
 ],
 "metadata": {
  "kernelspec": {
   "display_name": "Python 3",
   "language": "python",
   "name": "python3"
  },
  "language_info": {
   "codemirror_mode": {
    "name": "ipython",
    "version": 3
   },
   "file_extension": ".py",
   "mimetype": "text/x-python",
   "name": "python",
   "nbconvert_exporter": "python",
   "pygments_lexer": "ipython3",
   "version": "3.11.3"
  },
  "orig_nbformat": 4
 },
 "nbformat": 4,
 "nbformat_minor": 2
}
