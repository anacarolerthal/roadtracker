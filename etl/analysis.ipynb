{
 "cells": [
  {
   "cell_type": "code",
   "execution_count": 91,
   "metadata": {},
   "outputs": [],
   "source": [
    "import pyspark.sql.functions as F\n",
    "from pyspark.sql.window import Window\n",
    "from pyspark.sql.functions import col, row_number\n",
    "from pyspark.sql import SparkSession"
   ]
  },
  {
   "attachments": {},
   "cell_type": "markdown",
   "metadata": {},
   "source": [
    "#### **Functions**\n",
    "\n",
    "- `select()` - seleciona colunas\n",
    "- `filter()` - filtra linhas"
   ]
  },
  {
   "cell_type": "code",
   "execution_count": 92,
   "metadata": {},
   "outputs": [],
   "source": [
    "spark = SparkSession.builder \\\n",
    "    .master(\"local\") \\\n",
    "    .appName(\"RoadTracker\") \\\n",
    "    .config(\"spark.driver.memory\", \"8g\") \\\n",
    "    .config(\"spark.executor.cores\", \"4\") \\\n",
    "    .getOrCreate()"
   ]
  },
  {
   "cell_type": "code",
   "execution_count": 93,
   "metadata": {},
   "outputs": [],
   "source": [
    "# load the data\n",
    "df = spark.read.csv(\"all_roads.csv\", header=True, inferSchema=True)"
   ]
  },
  {
   "cell_type": "code",
   "execution_count": 94,
   "metadata": {},
   "outputs": [
    {
     "name": "stdout",
     "output_type": "stream",
     "text": [
      "Number of roads: 5\n"
     ]
    }
   ],
   "source": [
    "# analise 1\n",
    "n_roads = df.select(\"road\").distinct().count()\n",
    "print(\"Number of roads: {}\".format(n_roads))"
   ]
  },
  {
   "cell_type": "code",
   "execution_count": 95,
   "metadata": {},
   "outputs": [
    {
     "name": "stdout",
     "output_type": "stream",
     "text": [
      "Number of cars: 228\n"
     ]
    }
   ],
   "source": [
    "# analise 2\n",
    "n_cars = df.select(\"plate\").distinct().count()\n",
    "print(\"Number of cars: {}\".format(n_cars))"
   ]
  },
  {
   "cell_type": "code",
   "execution_count": 96,
   "metadata": {},
   "outputs": [
    {
     "name": "stdout",
     "output_type": "stream",
     "text": [
      "+-----+----------+---------+---+---+-----+--------------------+---------+-----+---+\n",
      "| road|road_speed|road_size|  x|  y|plate|                time|direction|speed|acc|\n",
      "+-----+----------+---------+---+---+-----+--------------------+---------+-----+---+\n",
      "|road0|       120|     1000|211|  1|AB574| 1.686406213437755E9|        1|    0|  0|\n",
      "|road1|       120|     1000|240|  3|AC921|1.6864062615287898E9|        1|   38|-38|\n",
      "|road2|       120|     1000|870|  5|AD953|1.6864062396293578E9|       -1|   66| -5|\n",
      "|road1|       120|     1000|548|  9|AG129|1.6864062242716305E9|       -1|   93| -2|\n",
      "|road4|       120|     1000|225|  1|AG604| 1.686406237883799E9|        1|    0|  0|\n",
      "|road4|       120|     1000|487|  3|AQ481|1.6864062349618049E9|        1|   86|  1|\n",
      "|road4|       120|     1000|232|  0|AQ887|1.6864062389233131E9|        1|   73| -3|\n",
      "|road2|       120|     1000|608|  6|AS492|1.6864062400063767E9|       -1|    0|  0|\n",
      "|road4|       120|     1000|858|  8|AS757|  1.68640622600074E9|       -1|    0|  0|\n",
      "|road3|       120|     1000|790|  5|AT582|1.6864062427323804E9|       -1|  103| -5|\n",
      "|road1|       120|     1000|278|  3|AV426|1.6864062852037997E9|        1|    0|  0|\n",
      "|road4|       120|     1000|691|  5|AW242|  1.68640622589968E9|       -1|    0|  0|\n",
      "|road0|       120|     1000|193|  0|AW987| 1.686406249730599E9|        1|    0|  0|\n",
      "|road4|       120|     1000|257|  2|BA302|1.6864062567565422E9|        1|    0|  0|\n",
      "|road4|       120|     1000|225|  1|BB278|1.6864062366267242E9|        1|    0|  0|\n",
      "|road1|       120|     1000|278|  3|BH625|1.6864062345160294E9|        1|    0|  0|\n",
      "|road2|       120|     1000|417|  7|BL670|1.6864062386622963E9|       -1|   93| -1|\n",
      "|road0|       120|     1000|415|  5|BO386|1.6864062367047298E9|       -1|   92| -2|\n",
      "|road1|       120|     1000|380|  1|BO448|1.6864062368237364E9|        1|    0|  0|\n",
      "|road1|       120|     1000|711|  7|BW901|1.6864062231610422E9|       -1|   99| -1|\n",
      "+-----+----------+---------+---+---+-----+--------------------+---------+-----+---+\n",
      "only showing top 20 rows\n",
      "\n"
     ]
    }
   ],
   "source": [
    "# CALCULATE SPEED AND ACCELERATION\n",
    "\n",
    "windowDept = Window.partitionBy(\"plate\").orderBy(col(\"time\").desc())\n",
    "\n",
    "df = df.withColumn(\"row\",row_number().over(windowDept)) \\\n",
    "        .filter(col(\"row\") <= 3)\n",
    "\n",
    "# calculo da velocidade\n",
    "df = df.withColumn(\"speed\", F.col(\"x\") - F.lag(\"x\", 1).over(windowDept))\n",
    "\n",
    "# make all values positive\n",
    "df = df.withColumn(\"speed\", F.abs(F.col(\"speed\")))\n",
    "\n",
    "# calculo da aceleracao\n",
    "df = df.withColumn(\"acc\", -F.col(\"speed\") + F.lag(\"speed\", 1).over(windowDept))\n",
    "\n",
    "# drop null values\n",
    "df = df.na.drop()\n",
    "\n",
    "# drop row column\n",
    "df = df.drop(\"row\")\n",
    "\n",
    "df.show()"
   ]
  },
  {
   "cell_type": "code",
   "execution_count": 97,
   "metadata": {},
   "outputs": [
    {
     "name": "stdout",
     "output_type": "stream",
     "text": [
      "Number of cars over the speed limit: 4\n"
     ]
    }
   ],
   "source": [
    "# analise 3\n",
    "\n",
    "# add a column for the cars over the speed limit\n",
    "df = df.withColumn(\"over_speed_limit\", F.when(F.col(\"speed\") > F.col(\"road_speed\"), 1).otherwise(0))\n",
    "\n",
    "cars_over_speed_limit = df.filter(F.col(\"over_speed_limit\") == 1) \\\n",
    "    .select(\"plate\").distinct().count()\n",
    "\n",
    "print(\"Number of cars over the speed limit: {}\".format(cars_over_speed_limit))"
   ]
  },
  {
   "cell_type": "code",
   "execution_count": 98,
   "metadata": {},
   "outputs": [
    {
     "name": "stdout",
     "output_type": "stream",
     "text": [
      "+-----+----------+---------+---+---+-----+--------------------+---------+-----+---+----------------+--------------+\n",
      "| road|road_speed|road_size|  x|  y|plate|                time|direction|speed|acc|over_speed_limit|collision_risk|\n",
      "+-----+----------+---------+---+---+-----+--------------------+---------+-----+---+----------------+--------------+\n",
      "|road0|       120|     1000|193|  0|AW987| 1.686406249730599E9|        1|    0|  0|               0|             0|\n",
      "|road0|       120|     1000|193|  0|FB448|1.6864062490415573E9|        1|    0|  0|               0|             0|\n",
      "|road0|       120|     1000|193|  0|ME801|1.6864062275076733E9|        1|    0|  0|               0|             0|\n",
      "|road0|       120|     1000|193|  0|NZ856|1.6864062310521214E9|        1|    0|  0|               0|             0|\n",
      "|road0|       120|     1000|193|  0|RY127|1.6864062278370519E9|        1|    0|  0|               0|             0|\n",
      "|road0|       120|     1000|211|  1|AB574| 1.686406213437755E9|        1|    0|  0|               0|             0|\n",
      "|road0|       120|     1000|211|  1|PE784|1.6864062298038075E9|        1|    0|  0|               0|             0|\n",
      "|road0|       120|     1000|211|  1|VB141| 1.686406215374106E9|        1|    0|  0|               0|             0|\n",
      "|road0|       120|     1000|244|  2|TZ808|1.6864062476554756E9|        1|    0|  0|               0|             0|\n",
      "|road0|       120|     1000|244|  2|UN542|1.6864062294849715E9|        1|    0|  0|               0|             0|\n",
      "|road0|       120|     1000|199|  3|PE932|1.6864062722077026E9|        1|    0|  0|               0|             0|\n",
      "|road0|       120|     1000|199|  3|QV633|1.6864062484757907E9|        1|    0|  0|               0|             0|\n",
      "|road0|       120|     1000|199|  3|UZ992|1.6864062729576428E9|        1|    0|  0|               0|             0|\n",
      "|road0|       120|     1000|488|  3|IY977|1.6864062306826158E9|        1|   85|  1|               0|             0|\n",
      "|road0|       120|     1000|426|  4|OR447|1.6864062307046173E9|        1|    0|  0|               0|             0|\n",
      "|road0|       120|     1000|426|  4|SC794|1.6864062490105731E9|        1|    0|  0|               0|             0|\n",
      "|road0|       120|     1000|415|  5|BO386|1.6864062367047298E9|       -1|   92| -2|               0|             0|\n",
      "|road0|       120|     1000|723|  5|CN342|1.6864062397204738E9|       -1|   60|  4|               0|             0|\n",
      "|road0|       120|     1000|297|  6|DH784|1.6864062375307784E9|       -1|  109|  0|               0|             0|\n",
      "|road0|       120|     1000|612|  6|OW377|1.6864062393263938E9|       -1|    0|  0|               0|             0|\n",
      "+-----+----------+---------+---+---+-----+--------------------+---------+-----+---+----------------+--------------+\n",
      "only showing top 20 rows\n",
      "\n"
     ]
    }
   ],
   "source": [
    "# DF DE RISCO DE COLISÃO\n",
    "windowDept = Window.partitionBy(\"road\", \"y\").orderBy(\"x\")\n",
    "\n",
    "# calcula o risco de colisao fazendo posicao + (velocidade * direcao)\n",
    "\n",
    "# essa versao funciona, mas adiciona o risco de colisao em carros diferentes dependendo de forward ou backward\n",
    "#df = df.withColumn(\"collision_risk\",\n",
    "                #F.when((F.col(\"x\") + (F.col(\"speed\") * F.col(\"direction\"))) > (F.lag(\"x\", -1).over(windowDept) + (F.lag(\"speed\", -1).over(windowDept) * F.lag(\"direction\", -1).over(windowDept))), 1).otherwise(0))\n",
    "\n",
    "# essa versao padroniza           \n",
    "df = df.withColumn(\"collision_risk\",\n",
    "                   F.when(F.col(\"direction\") == 1,\n",
    "                          F.when((F.col(\"x\") + F.col(\"speed\") + F.col(\"acc\")) > (F.lag(\"x\", -1).over(windowDept) + F.lag(\"speed\", -1).over(windowDept) + F.lag(\"acc\",-1).over(windowDept)), 1).otherwise(0)) \\\n",
    "                   .otherwise(F.when((F.col(\"x\") - F.col(\"speed\") - F.col(\"acc\")) < (F.lag(\"x\", 1).over(windowDept) - F.lag(\"speed\", 1).over(windowDept) - F.lag(\"acc\", 1).over(windowDept)), 1).otherwise(0)))\n",
    "\n",
    "df.show()"
   ]
  },
  {
   "cell_type": "code",
   "execution_count": 99,
   "metadata": {},
   "outputs": [
    {
     "name": "stdout",
     "output_type": "stream",
     "text": [
      "Number of cars with collision risk: 4\n"
     ]
    }
   ],
   "source": [
    "# analise 4\n",
    "\n",
    "cars_collision_risk = df.filter(F.col(\"collision_risk\") == 1) \\\n",
    "    .select(\"plate\").distinct().count()\n",
    "\n",
    "print(\"Number of cars with collision risk: {}\".format(cars_collision_risk))"
   ]
  },
  {
   "cell_type": "code",
   "execution_count": 100,
   "metadata": {},
   "outputs": [
    {
     "data": {
      "text/plain": [
       "[Row(plate='EV158', speed=205, collision_risk=0),\n",
       " Row(plate='TH675', speed=183, collision_risk=0),\n",
       " Row(plate='MT869', speed=122, collision_risk=0),\n",
       " Row(plate='IR559', speed=126, collision_risk=0)]"
      ]
     },
     "execution_count": 100,
     "metadata": {},
     "output_type": "execute_result"
    }
   ],
   "source": [
    "# analise 5\n",
    "CollectionOverSpeedLimit = df.filter(F.col(\"over_speed_limit\") == 1) \\\n",
    "                        .select(\"plate\", \"speed\", \"collision_risk\") \\\n",
    "                        .collect()\n",
    "\n",
    "CollectionOverSpeedLimit"
   ]
  },
  {
   "cell_type": "code",
   "execution_count": 101,
   "metadata": {},
   "outputs": [
    {
     "data": {
      "text/plain": [
       "[Row(plate='EI774', speed=85),\n",
       " Row(plate='BW901', speed=99),\n",
       " Row(plate='SW786', speed=64),\n",
       " Row(plate='KL664', speed=74)]"
      ]
     },
     "execution_count": 101,
     "metadata": {},
     "output_type": "execute_result"
    }
   ],
   "source": [
    "# analise 6\n",
    "CollectionCollisionRisk = df.filter(F.col(\"collision_risk\") == 1) \\\n",
    "                .select(\"plate\", \"speed\") \\\n",
    "                .collect()\n",
    "                \n",
    "CollectionCollisionRisk"
   ]
  }
 ],
 "metadata": {
  "kernelspec": {
   "display_name": "Python 3",
   "language": "python",
   "name": "python3"
  },
  "language_info": {
   "codemirror_mode": {
    "name": "ipython",
    "version": 3
   },
   "file_extension": ".py",
   "mimetype": "text/x-python",
   "name": "python",
   "nbconvert_exporter": "python",
   "pygments_lexer": "ipython3",
   "version": "3.10.7"
  },
  "orig_nbformat": 4
 },
 "nbformat": 4,
 "nbformat_minor": 2
}
