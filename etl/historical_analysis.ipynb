{
 "cells": [
  {
   "cell_type": "code",
   "execution_count": 483,
   "metadata": {},
   "outputs": [],
   "source": [
    "import pyspark.sql.functions as F\n",
    "from pyspark.sql.window import Window\n",
    "from pyspark.sql.functions import col, row_number, countDistinct\n",
    "from pyspark.sql import SparkSession\n",
    "from pyspark import SparkConf, SparkContext"
   ]
  },
  {
   "cell_type": "code",
   "execution_count": 484,
   "metadata": {},
   "outputs": [],
   "source": [
    "# def init_spark():\n",
    "#     mongo_conn = \"mongodb://mongo:27017\"\n",
    "#     conf = SparkConf()\n",
    "#     conf.set(\"spark.jars.packages\", \"org.mongodb.spark:mongo-spark-connector_2.12:3.0.1\")\n",
    "#     conf.set(\"spark.write.connection.uri\", mongo_conn)\n",
    "#     conf.set(\"spark.mongodb.write.database\", \"roadtracker\")\n",
    "#     conf.set(\"spark.mongodb.write.collection\", \"historical1\")\n",
    "    \n",
    "#     sc = SparkContext.getOrCreate(conf=conf)\n",
    "    \n",
    "#     return SparkSession() \\\n",
    "#         .builder \\\n",
    "#         .appName(\"RoadTracker\") \\\n",
    "#         .getOrCreate()\n",
    "\n",
    "# # spark = init_spark()"
   ]
  },
  {
   "cell_type": "code",
   "execution_count": 485,
   "metadata": {},
   "outputs": [],
   "source": [
    "spark = SparkSession.builder \\\n",
    "    .master(\"local\") \\\n",
    "    .appName(\"HistoricalRoadTracker\") \\\n",
    "    .config(\"spark.driver.memory\", \"8g\") \\\n",
    "    .config(\"spark.executor.cores\", \"4\") \\\n",
    "    .getOrCreate()"
   ]
  },
  {
   "cell_type": "code",
   "execution_count": 486,
   "metadata": {},
   "outputs": [],
   "source": [
    "# load the data\n",
    "df = spark.read.csv(\"all_roads.csv\", header=True, inferSchema=True)\n",
    "\n",
    "# read a parquet file\n",
    "# df = spark.read.parquet(\"1686522436.8648.parquet\", header=True, inferSchema=True)"
   ]
  },
  {
   "cell_type": "code",
   "execution_count": 487,
   "metadata": {},
   "outputs": [],
   "source": [
    "# df = df.withColumn(\"time\", F.col(\"time\").cast(\"timestamp\"))"
   ]
  },
  {
   "cell_type": "code",
   "execution_count": 488,
   "metadata": {},
   "outputs": [
    {
     "name": "stdout",
     "output_type": "stream",
     "text": [
      "+-----+----------+\n",
      "|plate|road_count|\n",
      "+-----+----------+\n",
      "|EK016|         1|\n",
      "|OB699|         1|\n",
      "|EJ199|         1|\n",
      "|KB351|         1|\n",
      "|NN265|         1|\n",
      "|GB035|         1|\n",
      "|BH673|         1|\n",
      "|IA523|         1|\n",
      "|LW495|         1|\n",
      "|PA873|         1|\n",
      "|WE779|         1|\n",
      "|WK061|         1|\n",
      "|JK992|         1|\n",
      "|UD451|         1|\n",
      "|GN979|         1|\n",
      "|AZ064|         1|\n",
      "|UH029|         1|\n",
      "|JY708|         1|\n",
      "|ED249|         1|\n",
      "|ZI913|         1|\n",
      "+-----+----------+\n",
      "only showing top 20 rows\n",
      "\n"
     ]
    }
   ],
   "source": [
    "# historical 1\n",
    "dfRoadCount = df.groupBy(\"plate\").agg(countDistinct('road')).withColumnRenamed(\"count(road)\", \"road_count\")\n",
    "\n",
    "# get the top 100\n",
    "dfRoadCount = dfRoadCount.orderBy(col(\"road_count\").desc()).limit(100)\n",
    "dfRoadCount.show()"
   ]
  },
  {
   "cell_type": "code",
   "execution_count": 489,
   "metadata": {},
   "outputs": [
    {
     "name": "stdout",
     "output_type": "stream",
     "text": [
      "+-----+----------+---------+-----+---+-----+--------------------+---------+-----+----+\n",
      "| road|road_speed|road_size|    x|  y|plate|                time|direction|speed| acc|\n",
      "+-----+----------+---------+-----+---+-----+--------------------+---------+-----+----+\n",
      "|road4|       170|    87097|86876| 11|AB443|1.6872867809014084E9|       -1|   75|   2|\n",
      "|road6|       135|    86558|  305|  3|AH354|1.6872867894516697E9|        1|    0|-101|\n",
      "|road6|       135|    86558|  305|  4|AH354|1.6872867851617193E9|        1|  101|  -1|\n",
      "|road6|       135|    86558|  530|  0|AI125|1.6872867889800618E9|        1|  106|   1|\n",
      "|road6|       135|    86558|  424|  0|AI125|1.6872867582297566E9|        1|  105|   2|\n",
      "|road6|       135|    86558|  319|  0|AI125| 1.687286732575757E9|        1|  103|  -5|\n",
      "|road3|       130|    70900|  120|  0|AI224|1.6872867978729136E9|        1|    0|   0|\n",
      "|road3|       130|    70900|  120|  0|AI224|1.6872867652387855E9|        1|    0|   0|\n",
      "|road3|       130|    70900|  120|  0|AI224| 1.687286765198193E9|        1|    0|   0|\n",
      "|road8|       149|    72331|  126|  3|AI433|1.6872867692313528E9|        1|    0|   0|\n",
      "|road8|       149|    72331|  126|  3|AI433|1.6872867680793958E9|        1|    0| -63|\n",
      "|road4|       170|    87097|86793| 10|AU519| 1.687286784124547E9|       -1|  102|   1|\n",
      "|road5|       152|    59840|59674| 14|AZ064|1.6872867795049994E9|       -1|   83|  83|\n",
      "|road3|       130|    70900|  596|  0|BH673| 1.687286802566382E9|        1|  118|  -1|\n",
      "|road3|       130|    70900|  478|  0|BH673|1.6872867611911116E9|        1|  119|   2|\n",
      "|road3|       130|    70900|  359|  0|BH673|1.6872867314548788E9|        1|  117|  -4|\n",
      "|road7|       200|    73889|  438|  2|BI172|1.6872867891379817E9|        1|  144|  -3|\n",
      "|road9|       149|    99426|98973|  8|BL587|1.6872867832393217E9|       -1|  114|  -1|\n",
      "|road9|       149|    99426|99087|  8|BL587| 1.687286755932723E9|       -1|  115|   3|\n",
      "|road5|       152|    59840|59565| 15|BO582|1.6872867866547756E9|       -1|  139|  71|\n",
      "+-----+----------+---------+-----+---+-----+--------------------+---------+-----+----+\n",
      "only showing top 20 rows\n",
      "\n"
     ]
    }
   ],
   "source": [
    "# CALCULATE SPEED AND ACCELERATION\n",
    "\n",
    "# calculate all speeds achieved by each car\n",
    "windowDept = Window.partitionBy(\"plate\").orderBy(col(\"time\").desc())\n",
    "\n",
    "# calc all speeds\n",
    "dfCalcs = df.withColumn(\"speed\", F.col(\"x\") - F.lag(\"x\", -1).over(windowDept))\n",
    "\n",
    "# make all values positive\n",
    "dfCalcs = dfCalcs.withColumn(\"speed\", F.abs(F.col(\"speed\")))\n",
    "\n",
    "# calc all accs\n",
    "dfCalcs = dfCalcs.withColumn(\"acc\", F.col(\"speed\") - F.lag(\"speed\", -1).over(windowDept))\n",
    "\n",
    "# drop nulls\n",
    "dfCalcs = dfCalcs.na.drop()\n",
    "\n",
    "dfCalcs.show()"
   ]
  },
  {
   "cell_type": "code",
   "execution_count": 490,
   "metadata": {},
   "outputs": [],
   "source": [
    "# historical 2\n",
    "\n",
    "# get average speed per road\n",
    "dfStats = dfCalcs.groupBy(\"road\").avg(\"speed\", \"road_size\")\\\n",
    "            .withColumnRenamed(\"avg(speed)\", \"avg_speed\")\\\n",
    "            .withColumnRenamed(\"avg(road_size)\", \"road_size\")\n",
    "\n",
    "# calculate avg time to cross\n",
    "dfStats = dfStats.withColumn(\"avg_time_to_cross\", F.col( \"road_size\") / F.col(\"avg_speed\"))\n",
    "dfStats = dfStats.select(\"road\", \"avg_speed\", \"avg_time_to_cross\")\n",
    "\n",
    "# get rows where speed = 0 and acc = 0 (collisions)\n",
    "dfCollisions = dfCalcs.filter((F.col(\"speed\") == 0) & (F.col(\"acc\") == 0))\n",
    "\n",
    "# group by road and count\n",
    "dfCollisions = dfCollisions.groupBy(\"road\").count().withColumnRenamed(\"count\", \"total_collisions\")\n",
    "\n",
    "# join the dataframes to get all stats\n",
    "dfStats = dfStats.join(dfCollisions, \"road\", \"left\")"
   ]
  },
  {
   "cell_type": "code",
   "execution_count": 491,
   "metadata": {},
   "outputs": [],
   "source": [
    "# historical 3\n",
    "\n",
    "# partition by plate and order by time (twice to have ascending and descending row numbers)\n",
    "windowDept = Window.partitionBy(\"plate\").orderBy(col(\"time\").asc())\n",
    "\n",
    "# create rows columns\n",
    "dfSpeeds = dfCalcs.withColumn(\"row\",row_number().over(windowDept))\n",
    "\n",
    "# check where speed is greater than road_speed and the previous speed was less than road_speed (that is, new infraction)\n",
    "dfSpeeds = dfSpeeds.withColumn(\"change_in_speed\",\n",
    "                   F.when(((F.col(\"speed\") > F.col(\"road_speed\")) & (F.lag(\"speed\", 1).over(windowDept) <= F.col(\"road_speed\"))) , 1) \\\n",
    "                   .otherwise(0))\n",
    "\n",
    "# check for vehicles that enter a road with speed > road_speed (infraction)\n",
    "dfSpeeds = dfSpeeds.withColumn(\"change_in_speed\",\n",
    "                     F.when(((F.col(\"speed\") > F.col(\"road_speed\")) & (F.col(\"row\") ==1)), 1) \\\n",
    "                        .otherwise(F.col(\"change_in_speed\")))\n",
    "\n",
    "# chosen T (change it after testing)\n",
    "t = 2500000000\n",
    "\n",
    "# get all rows where now() - time < t\n",
    "dfSpeeds = dfSpeeds.withColumn(\"past_time\", F.unix_timestamp(F.current_timestamp()).cast(\"double\"))\n",
    "dfSpeeds = dfSpeeds.withColumn(\"diff_time\", F.col(\"past_time\") - F.col(\"time\"))\n",
    "dfSpeeds = dfSpeeds.filter(F.col(\"diff_time\") < t)\n",
    "\n",
    "#  check which cars have more than 10 infractions\n",
    "dfInfractions = dfSpeeds.groupBy(\"plate\").sum(\"change_in_speed\") \\\n",
    "   .withColumnRenamed(\"sum(change_in_speed)\", \"total_infractions\").filter(F.col(\"total_infractions\") >= 10)"
   ]
  },
  {
   "cell_type": "code",
   "execution_count": 492,
   "metadata": {},
   "outputs": [],
   "source": [
    "# analise alternativa\n",
    "\n",
    "windowDept = Window.partitionBy(\"plate\").orderBy(col(\"time\").desc())\n",
    "\n",
    "# filter rows with between t1 and t2, setting time t (UPDATE T1 AND T2)\n",
    "t1 = 1680000000\n",
    "t2 = 1690000000\n",
    "dfCalcs = dfCalcs.filter((F.col(\"time\") > t1) & (F.col(\"time\") < t2))\n",
    "\n",
    "# create column \"changed_y\" that is 1 if the car changed y and 0 otherwise\n",
    "dfCalcs = dfCalcs.withColumn(\"changed_lane\",\n",
    "                     F.when(((F.col(\"y\") != F.lag(\"y\", -1).over(windowDept))), 1) \\\n",
    "                        .otherwise(0))\n",
    "\n",
    "# create column \"over_road_speed\" that is 1 if the car is over the road speed and 0 otherwise\n",
    "dfCalcs = dfCalcs.withColumn(\"over_road_speed\",\n",
    "                        F.when(((F.col(\"speed\") > F.col(\"road_speed\"))), 3) \\\n",
    "                        .otherwise(0))\n",
    "\n",
    "# create column \"over_acc\" that is 1 if (acc>40 or acc<-40) and 0 otherwise\n",
    "dfCalcs = dfCalcs.withColumn(\"over_acc\",\n",
    "                        F.when(((F.col(\"acc\") > 40) | (F.col(\"acc\") < -40)), 3) \\\n",
    "                        .otherwise(0))\n",
    "\n",
    "# create a column \"total\" that is the sum of the previous columns for each car, and filter out no infraction cars\n",
    "dfCalcs = dfCalcs.withColumn(\"total\", F.col(\"changed_lane\") + F.col(\"over_road_speed\") + F.col(\"over_acc\")).filter(F.col(\"total\") > 0)\n",
    "\n",
    "# do sliding window of 60 seconds \n",
    "# replace 60 with desired I (interval)\n",
    "slidingWindow = Window.partitionBy(\"plate\").orderBy(F.col(\"time\").asc()).rangeBetween(Window.currentRow, 60)\n",
    "\n",
    "# check if several infractions happened in the interval (7 or more)\n",
    "dfCalcs = dfCalcs.withColumn(\"several_infractions\", F.sum(\"total\").over(slidingWindow) >=7).filter(F.col(\"several_infractions\") == True)\n",
    "dfSeveralInfractions = dfCalcs.select(\"plate\")"
   ]
  },
  {
   "cell_type": "code",
   "execution_count": null,
   "metadata": {},
   "outputs": [],
   "source": []
  }
 ],
 "metadata": {
  "kernelspec": {
   "display_name": "Python 3",
   "language": "python",
   "name": "python3"
  },
  "language_info": {
   "codemirror_mode": {
    "name": "ipython",
    "version": 3
   },
   "file_extension": ".py",
   "mimetype": "text/x-python",
   "name": "python",
   "nbconvert_exporter": "python",
   "pygments_lexer": "ipython3",
   "version": "3.10.7"
  },
  "orig_nbformat": 4
 },
 "nbformat": 4,
 "nbformat_minor": 2
}
