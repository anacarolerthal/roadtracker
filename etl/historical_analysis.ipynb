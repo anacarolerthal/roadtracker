{
 "cells": [
  {
   "cell_type": "code",
   "execution_count": 140,
   "metadata": {},
   "outputs": [],
   "source": [
    "import pyspark.sql.functions as F\n",
    "from pyspark.sql.window import Window\n",
    "from pyspark.sql.functions import col, row_number, countDistinct\n",
    "from pyspark.sql import SparkSession\n",
    "from pyspark import SparkConf, SparkContext"
   ]
  },
  {
   "cell_type": "code",
   "execution_count": 141,
   "metadata": {},
   "outputs": [],
   "source": [
    "# def init_spark():\n",
    "#     mongo_conn = \"mongodb://mongo:27017\"\n",
    "#     conf = SparkConf()\n",
    "#     conf.set(\"spark.jars.packages\", \"org.mongodb.spark:mongo-spark-connector_2.12:3.0.1\")\n",
    "#     conf.set(\"spark.write.connection.uri\", mongo_conn)\n",
    "#     conf.set(\"spark.mongodb.write.database\", \"roadtracker\")\n",
    "#     conf.set(\"spark.mongodb.write.collection\", \"historical1\")\n",
    "    \n",
    "#     sc = SparkContext.getOrCreate(conf=conf)\n",
    "    \n",
    "#     return SparkSession() \\\n",
    "#         .builder \\\n",
    "#         .appName(\"RoadTracker\") \\\n",
    "#         .getOrCreate()\n",
    "\n",
    "# # spark = init_spark()"
   ]
  },
  {
   "cell_type": "code",
   "execution_count": 142,
   "metadata": {},
   "outputs": [],
   "source": [
    "spark = SparkSession.builder \\\n",
    "    .master(\"local\") \\\n",
    "    .appName(\"HistoricalRoadTracker\") \\\n",
    "    .config(\"spark.driver.memory\", \"8g\") \\\n",
    "    .config(\"spark.executor.cores\", \"4\") \\\n",
    "    .getOrCreate()"
   ]
  },
  {
   "cell_type": "code",
   "execution_count": 143,
   "metadata": {},
   "outputs": [],
   "source": [
    "# load the data\n",
    "df = spark.read.csv(\"all_roads.csv\", header=True, inferSchema=True)\n",
    "\n",
    "# read a parquet file\n",
    "# df = spark.read.parquet(\"1686522436.8648.parquet\", header=True, inferSchema=True)"
   ]
  },
  {
   "cell_type": "code",
   "execution_count": 144,
   "metadata": {},
   "outputs": [
    {
     "name": "stdout",
     "output_type": "stream",
     "text": [
      "+-----+----------+\n",
      "|plate|road_count|\n",
      "+-----+----------+\n",
      "|EK016|         1|\n",
      "|OB699|         1|\n",
      "|EJ199|         1|\n",
      "|KB351|         1|\n",
      "|NN265|         1|\n",
      "|GB035|         1|\n",
      "|BH673|         1|\n",
      "|IA523|         1|\n",
      "|LW495|         1|\n",
      "|PA873|         1|\n",
      "|WE779|         1|\n",
      "|WK061|         1|\n",
      "|JK992|         1|\n",
      "|UD451|         1|\n",
      "|GN979|         1|\n",
      "|AZ064|         1|\n",
      "|UH029|         1|\n",
      "|JY708|         1|\n",
      "|ED249|         1|\n",
      "|ZI913|         1|\n",
      "+-----+----------+\n",
      "only showing top 20 rows\n",
      "\n"
     ]
    }
   ],
   "source": [
    "# historical 1\n",
    "dfRoadCount = df.groupBy(\"plate\").agg(countDistinct('road')).withColumnRenamed(\"count(road)\", \"road_count\")\n",
    "\n",
    "# get the top 100\n",
    "dfRoadCount = dfRoadCount.orderBy(col(\"road_count\").desc()).limit(100)\n",
    "dfRoadCount.show()"
   ]
  },
  {
   "cell_type": "code",
   "execution_count": 145,
   "metadata": {},
   "outputs": [
    {
     "name": "stdout",
     "output_type": "stream",
     "text": [
      "+-----+----------+---------+-----+---+-----+--------------------+---------+-----+----+\n",
      "| road|road_speed|road_size|    x|  y|plate|                time|direction|speed| acc|\n",
      "+-----+----------+---------+-----+---+-----+--------------------+---------+-----+----+\n",
      "|road4|       170|    87097|86876| 11|AB443|1.6872867809014084E9|       -1|   75|   2|\n",
      "|road6|       135|    86558|  305|  3|AH354|1.6872867894516697E9|        1|    0|-101|\n",
      "|road6|       135|    86558|  305|  4|AH354|1.6872867851617193E9|        1|  101|  -1|\n",
      "|road6|       135|    86558|  530|  0|AI125|1.6872867889800618E9|        1|  106|   1|\n",
      "|road6|       135|    86558|  424|  0|AI125|1.6872867582297566E9|        1|  105|   2|\n",
      "|road6|       135|    86558|  319|  0|AI125| 1.687286732575757E9|        1|  103|  -5|\n",
      "|road3|       130|    70900|  120|  0|AI224|1.6872867978729136E9|        1|    0|   0|\n",
      "|road3|       130|    70900|  120|  0|AI224|1.6872867652387855E9|        1|    0|   0|\n",
      "|road3|       130|    70900|  120|  0|AI224| 1.687286765198193E9|        1|    0|   0|\n",
      "|road8|       149|    72331|  126|  3|AI433|1.6872867692313528E9|        1|    0|   0|\n",
      "|road8|       149|    72331|  126|  3|AI433|1.6872867680793958E9|        1|    0| -63|\n",
      "|road4|       170|    87097|86793| 10|AU519| 1.687286784124547E9|       -1|  102|   1|\n",
      "|road5|       152|    59840|59674| 14|AZ064|1.6872867795049994E9|       -1|   83|  83|\n",
      "|road3|       130|    70900|  596|  0|BH673| 1.687286802566382E9|        1|  118|  -1|\n",
      "|road3|       130|    70900|  478|  0|BH673|1.6872867611911116E9|        1|  119|   2|\n",
      "|road3|       130|    70900|  359|  0|BH673|1.6872867314548788E9|        1|  117|  -4|\n",
      "|road7|       200|    73889|  438|  2|BI172|1.6872867891379817E9|        1|  144|  -3|\n",
      "|road9|       149|    99426|98973|  8|BL587|1.6872867832393217E9|       -1|  114|  -1|\n",
      "|road9|       149|    99426|99087|  8|BL587| 1.687286755932723E9|       -1|  115|   3|\n",
      "|road5|       152|    59840|59565| 15|BO582|1.6872867866547756E9|       -1|  139|  71|\n",
      "+-----+----------+---------+-----+---+-----+--------------------+---------+-----+----+\n",
      "only showing top 20 rows\n",
      "\n"
     ]
    }
   ],
   "source": [
    "# CALCULATE SPEED AND ACCELERATION\n",
    "\n",
    "# calculate all speeds achieved by each car\n",
    "windowDept = Window.partitionBy(\"plate\").orderBy(col(\"time\").desc())\n",
    "\n",
    "# calc all speeds\n",
    "dfCalcs = df.withColumn(\"speed\", F.col(\"x\") - F.lag(\"x\", -1).over(windowDept))\n",
    "\n",
    "# make all values positive\n",
    "dfCalcs = dfCalcs.withColumn(\"speed\", F.abs(F.col(\"speed\")))\n",
    "\n",
    "# calc all accs\n",
    "dfCalcs = dfCalcs.withColumn(\"acc\", F.col(\"speed\") - F.lag(\"speed\", -1).over(windowDept))\n",
    "\n",
    "# drop nulls\n",
    "dfCalcs = dfCalcs.na.drop()\n",
    "\n",
    "dfCalcs.show()"
   ]
  },
  {
   "cell_type": "code",
   "execution_count": 146,
   "metadata": {},
   "outputs": [],
   "source": [
    "# historical 2\n",
    "\n",
    "# get average speed per road\n",
    "dfStats = dfCalcs.groupBy(\"road\").avg(\"speed\", \"road_size\")\\\n",
    "            .withColumnRenamed(\"avg(speed)\", \"avg_speed\")\\\n",
    "            .withColumnRenamed(\"avg(road_size)\", \"road_size\")\n",
    "\n",
    "# calculate avg time to cross\n",
    "dfStats = dfStats.withColumn(\"avg_time_to_cross\", F.col( \"road_size\") / F.col(\"avg_speed\"))\n",
    "dfStats = dfStats.select(\"road\", \"avg_speed\", \"avg_time_to_cross\")\n",
    "\n",
    "# get rows where speed = 0 and acc = 0 (collisions)\n",
    "dfCollisions = dfCalcs.filter((F.col(\"speed\") == 0) & (F.col(\"acc\") == 0))\n",
    "\n",
    "# group by road and count\n",
    "dfCollisions = dfCollisions.groupBy(\"road\").count().withColumnRenamed(\"count\", \"total_collisions\")\n",
    "\n",
    "# join the dataframes to get all stats\n",
    "dfStats = dfStats.join(dfCollisions, \"road\", \"left\")"
   ]
  },
  {
   "cell_type": "code",
   "execution_count": 147,
   "metadata": {},
   "outputs": [],
   "source": [
    "# historical 3\n",
    "\n",
    "# partition by plate and order by time (twice to have ascending and descending row numbers)\n",
    "windowDept = Window.partitionBy(\"plate\").orderBy(col(\"time\").asc())\n",
    "\n",
    "# create rows columns\n",
    "dfSpeeds = dfCalcs.withColumn(\"row\",row_number().over(windowDept))\n",
    "\n",
    "# check where speed is greater than road_speed and the previous speed was less than road_speed (that is, new infraction)\n",
    "dfSpeeds = dfSpeeds.withColumn(\"change_in_speed\",\n",
    "                   F.when(((F.col(\"speed\") > F.col(\"road_speed\")) & (F.lag(\"speed\", 1).over(windowDept) <= F.col(\"road_speed\"))) , 1) \\\n",
    "                   .otherwise(0))\n",
    "\n",
    "# check for vehicles that enter a road with speed > road_speed (infraction)\n",
    "dfSpeeds = dfSpeeds.withColumn(\"change_in_speed\",\n",
    "                     F.when(((F.col(\"speed\") > F.col(\"road_speed\")) & (F.col(\"row\") ==1)), 1) \\\n",
    "                        .otherwise(F.col(\"change_in_speed\")))\n",
    "\n",
    "# chosen T (change it after testing)\n",
    "t = 2500000000\n",
    "\n",
    "# get all rows where now() - time < t\n",
    "dfSpeeds = dfSpeeds.withColumn(\"past_time\", F.unix_timestamp(F.current_timestamp()).cast(\"double\"))\n",
    "dfSpeeds = dfSpeeds.withColumn(\"diff_time\", F.col(\"past_time\") - F.col(\"time\"))\n",
    "dfSpeeds = dfSpeeds.filter(F.col(\"diff_time\") < t)\n",
    "\n",
    "#  check which cars have more than 10 infractions\n",
    "dfInfractions = dfSpeeds.groupBy(\"plate\").sum(\"change_in_speed\") \\\n",
    "   .withColumnRenamed(\"sum(change_in_speed)\", \"total_infractions\").filter(F.col(\"total_infractions\") >= 10)"
   ]
  },
  {
   "cell_type": "code",
   "execution_count": 148,
   "metadata": {},
   "outputs": [
    {
     "ename": "ParseException",
     "evalue": "\n[PARSE_SYNTAX_ERROR] Syntax error at or near '1'.(line 1, pos 15)\n\n== SQL ==\nEXISTS (SELECT 1 FROM (SELECT * FROM __THIS__) t WHERE t.plate = Column<'plate'> AND t.cum_sum = Column<'cum_sum'> - 10)\n---------------^^^\n",
     "output_type": "error",
     "traceback": [
      "\u001b[1;31m---------------------------------------------------------------------------\u001b[0m",
      "\u001b[1;31mParseException\u001b[0m                            Traceback (most recent call last)",
      "\u001b[1;32mc:\\Users\\Carol Erthal\\Documents\\fgv\\5P\\COMP_ESCALAVEL\\roadtracker\\etl\\historical_analysis.ipynb Cell 9\u001b[0m in \u001b[0;36m<cell line: 27>\u001b[1;34m()\u001b[0m\n\u001b[0;32m     <a href='vscode-notebook-cell:/c%3A/Users/Carol%20Erthal/Documents/fgv/5P/COMP_ESCALAVEL/roadtracker/etl/historical_analysis.ipynb#X12sZmlsZQ%3D%3D?line=22'>23</a>\u001b[0m dfCalcs \u001b[39m=\u001b[39m dfCalcs\u001b[39m.\u001b[39mwithColumn(\u001b[39m'\u001b[39m\u001b[39mcum_sum\u001b[39m\u001b[39m'\u001b[39m, F\u001b[39m.\u001b[39msum(\u001b[39m'\u001b[39m\u001b[39mtotal\u001b[39m\u001b[39m'\u001b[39m)\u001b[39m.\u001b[39mover(windowDept\u001b[39m.\u001b[39mrangeBetween(Window\u001b[39m.\u001b[39munboundedPreceding, \u001b[39m0\u001b[39m)))\n\u001b[0;32m     <a href='vscode-notebook-cell:/c%3A/Users/Carol%20Erthal/Documents/fgv/5P/COMP_ESCALAVEL/roadtracker/etl/historical_analysis.ipynb#X12sZmlsZQ%3D%3D?line=24'>25</a>\u001b[0m \u001b[39m# for each cumsum > 10, check in row where cumsum = cumsum - 10 for that car and see if time is less than t\u001b[39;00m\n\u001b[0;32m     <a href='vscode-notebook-cell:/c%3A/Users/Carol%20Erthal/Documents/fgv/5P/COMP_ESCALAVEL/roadtracker/etl/historical_analysis.ipynb#X12sZmlsZQ%3D%3D?line=25'>26</a>\u001b[0m \u001b[39m# if it is, then the car has more than 10 infractions\u001b[39;00m\n\u001b[0;32m     <a href='vscode-notebook-cell:/c%3A/Users/Carol%20Erthal/Documents/fgv/5P/COMP_ESCALAVEL/roadtracker/etl/historical_analysis.ipynb#X12sZmlsZQ%3D%3D?line=26'>27</a>\u001b[0m dfCalcs \u001b[39m=\u001b[39m dfCalcs\u001b[39m.\u001b[39mwithColumn(\n\u001b[0;32m     <a href='vscode-notebook-cell:/c%3A/Users/Carol%20Erthal/Documents/fgv/5P/COMP_ESCALAVEL/roadtracker/etl/historical_analysis.ipynb#X12sZmlsZQ%3D%3D?line=27'>28</a>\u001b[0m     \u001b[39m\"\u001b[39m\u001b[39mtarget\u001b[39m\u001b[39m\"\u001b[39m,\n\u001b[0;32m     <a href='vscode-notebook-cell:/c%3A/Users/Carol%20Erthal/Documents/fgv/5P/COMP_ESCALAVEL/roadtracker/etl/historical_analysis.ipynb#X12sZmlsZQ%3D%3D?line=28'>29</a>\u001b[0m     F\u001b[39m.\u001b[39mwhen(\n\u001b[1;32m---> <a href='vscode-notebook-cell:/c%3A/Users/Carol%20Erthal/Documents/fgv/5P/COMP_ESCALAVEL/roadtracker/etl/historical_analysis.ipynb#X12sZmlsZQ%3D%3D?line=29'>30</a>\u001b[0m         (F\u001b[39m.\u001b[39mcol(\u001b[39m\"\u001b[39m\u001b[39mcum_sum\u001b[39m\u001b[39m\"\u001b[39m) \u001b[39m>\u001b[39m\u001b[39m=\u001b[39m \u001b[39m10\u001b[39m) \u001b[39m&\u001b[39m (F\u001b[39m.\u001b[39mcol(\u001b[39m\"\u001b[39m\u001b[39mtime\u001b[39m\u001b[39m\"\u001b[39m) \u001b[39m>\u001b[39m \u001b[39m20\u001b[39m) \u001b[39m&\u001b[39m F\u001b[39m.\u001b[39;49mexpr(\n\u001b[0;32m     <a href='vscode-notebook-cell:/c%3A/Users/Carol%20Erthal/Documents/fgv/5P/COMP_ESCALAVEL/roadtracker/etl/historical_analysis.ipynb#X12sZmlsZQ%3D%3D?line=30'>31</a>\u001b[0m             \u001b[39mf\u001b[39;49m\u001b[39m\"\u001b[39;49m\u001b[39mEXISTS (SELECT 1 FROM (SELECT * FROM __THIS__) t WHERE t.plate = \u001b[39;49m\u001b[39m{\u001b[39;49;00mdfCalcs\u001b[39m.\u001b[39;49mplate\u001b[39m}\u001b[39;49;00m\u001b[39m AND t.cum_sum = \u001b[39;49m\u001b[39m{\u001b[39;49;00mdfCalcs\u001b[39m.\u001b[39;49mcum_sum\u001b[39m}\u001b[39;49;00m\u001b[39m - 10)\u001b[39;49m\u001b[39m\"\u001b[39;49m\n\u001b[0;32m     <a href='vscode-notebook-cell:/c%3A/Users/Carol%20Erthal/Documents/fgv/5P/COMP_ESCALAVEL/roadtracker/etl/historical_analysis.ipynb#X12sZmlsZQ%3D%3D?line=31'>32</a>\u001b[0m         ),\n\u001b[0;32m     <a href='vscode-notebook-cell:/c%3A/Users/Carol%20Erthal/Documents/fgv/5P/COMP_ESCALAVEL/roadtracker/etl/historical_analysis.ipynb#X12sZmlsZQ%3D%3D?line=32'>33</a>\u001b[0m         \u001b[39m1\u001b[39m\n\u001b[0;32m     <a href='vscode-notebook-cell:/c%3A/Users/Carol%20Erthal/Documents/fgv/5P/COMP_ESCALAVEL/roadtracker/etl/historical_analysis.ipynb#X12sZmlsZQ%3D%3D?line=33'>34</a>\u001b[0m     )\u001b[39m.\u001b[39motherwise(\u001b[39m0\u001b[39m)\n\u001b[0;32m     <a href='vscode-notebook-cell:/c%3A/Users/Carol%20Erthal/Documents/fgv/5P/COMP_ESCALAVEL/roadtracker/etl/historical_analysis.ipynb#X12sZmlsZQ%3D%3D?line=34'>35</a>\u001b[0m )\n\u001b[0;32m     <a href='vscode-notebook-cell:/c%3A/Users/Carol%20Erthal/Documents/fgv/5P/COMP_ESCALAVEL/roadtracker/etl/historical_analysis.ipynb#X12sZmlsZQ%3D%3D?line=37'>38</a>\u001b[0m \u001b[39m# show dfCalcs where several_infractions = 1\u001b[39;00m\n\u001b[0;32m     <a href='vscode-notebook-cell:/c%3A/Users/Carol%20Erthal/Documents/fgv/5P/COMP_ESCALAVEL/roadtracker/etl/historical_analysis.ipynb#X12sZmlsZQ%3D%3D?line=38'>39</a>\u001b[0m dfCalcs \u001b[39m=\u001b[39m dfCalcs\u001b[39m.\u001b[39mfilter(F\u001b[39m.\u001b[39mcol(\u001b[39m\"\u001b[39m\u001b[39mseveral_infractions\u001b[39m\u001b[39m\"\u001b[39m) \u001b[39m==\u001b[39m \u001b[39m1\u001b[39m)\u001b[39m.\u001b[39mselect(\u001b[39m\"\u001b[39m\u001b[39mplate\u001b[39m\u001b[39m\"\u001b[39m)\n",
      "File \u001b[1;32mc:\\Users\\Carol Erthal\\AppData\\Local\\Programs\\Python\\Python310\\lib\\site-packages\\pyspark\\sql\\utils.py:159\u001b[0m, in \u001b[0;36mtry_remote_functions.<locals>.wrapped\u001b[1;34m(*args, **kwargs)\u001b[0m\n\u001b[0;32m    157\u001b[0m     \u001b[39mreturn\u001b[39;00m \u001b[39mgetattr\u001b[39m(functions, f\u001b[39m.\u001b[39m\u001b[39m__name__\u001b[39m)(\u001b[39m*\u001b[39margs, \u001b[39m*\u001b[39m\u001b[39m*\u001b[39mkwargs)\n\u001b[0;32m    158\u001b[0m \u001b[39melse\u001b[39;00m:\n\u001b[1;32m--> 159\u001b[0m     \u001b[39mreturn\u001b[39;00m f(\u001b[39m*\u001b[39margs, \u001b[39m*\u001b[39m\u001b[39m*\u001b[39mkwargs)\n",
      "File \u001b[1;32mc:\\Users\\Carol Erthal\\AppData\\Local\\Programs\\Python\\Python310\\lib\\site-packages\\pyspark\\sql\\functions.py:3671\u001b[0m, in \u001b[0;36mexpr\u001b[1;34m(str)\u001b[0m\n\u001b[0;32m   3641\u001b[0m \u001b[39m@try_remote_functions\u001b[39m\n\u001b[0;32m   3642\u001b[0m \u001b[39mdef\u001b[39;00m \u001b[39mexpr\u001b[39m(\u001b[39mstr\u001b[39m: \u001b[39mstr\u001b[39m) \u001b[39m-\u001b[39m\u001b[39m>\u001b[39m Column:\n\u001b[0;32m   3643\u001b[0m     \u001b[39m\"\"\"Parses the expression string into the column that it represents\u001b[39;00m\n\u001b[0;32m   3644\u001b[0m \n\u001b[0;32m   3645\u001b[0m \u001b[39m    .. versionadded:: 1.5.0\u001b[39;00m\n\u001b[1;32m   (...)\u001b[0m\n\u001b[0;32m   3669\u001b[0m \u001b[39m    +-----+------------+\u001b[39;00m\n\u001b[0;32m   3670\u001b[0m \u001b[39m    \"\"\"\u001b[39;00m\n\u001b[1;32m-> 3671\u001b[0m     \u001b[39mreturn\u001b[39;00m _invoke_function(\u001b[39m\"\u001b[39;49m\u001b[39mexpr\u001b[39;49m\u001b[39m\"\u001b[39;49m, \u001b[39mstr\u001b[39;49m)\n",
      "File \u001b[1;32mc:\\Users\\Carol Erthal\\AppData\\Local\\Programs\\Python\\Python310\\lib\\site-packages\\pyspark\\sql\\functions.py:95\u001b[0m, in \u001b[0;36m_invoke_function\u001b[1;34m(name, *args)\u001b[0m\n\u001b[0;32m     93\u001b[0m \u001b[39massert\u001b[39;00m SparkContext\u001b[39m.\u001b[39m_active_spark_context \u001b[39mis\u001b[39;00m \u001b[39mnot\u001b[39;00m \u001b[39mNone\u001b[39;00m\n\u001b[0;32m     94\u001b[0m jf \u001b[39m=\u001b[39m _get_jvm_function(name, SparkContext\u001b[39m.\u001b[39m_active_spark_context)\n\u001b[1;32m---> 95\u001b[0m \u001b[39mreturn\u001b[39;00m Column(jf(\u001b[39m*\u001b[39;49margs))\n",
      "File \u001b[1;32mc:\\Users\\Carol Erthal\\AppData\\Local\\Programs\\Python\\Python310\\lib\\site-packages\\py4j\\java_gateway.py:1322\u001b[0m, in \u001b[0;36mJavaMember.__call__\u001b[1;34m(self, *args)\u001b[0m\n\u001b[0;32m   1316\u001b[0m command \u001b[39m=\u001b[39m proto\u001b[39m.\u001b[39mCALL_COMMAND_NAME \u001b[39m+\u001b[39m\\\n\u001b[0;32m   1317\u001b[0m     \u001b[39mself\u001b[39m\u001b[39m.\u001b[39mcommand_header \u001b[39m+\u001b[39m\\\n\u001b[0;32m   1318\u001b[0m     args_command \u001b[39m+\u001b[39m\\\n\u001b[0;32m   1319\u001b[0m     proto\u001b[39m.\u001b[39mEND_COMMAND_PART\n\u001b[0;32m   1321\u001b[0m answer \u001b[39m=\u001b[39m \u001b[39mself\u001b[39m\u001b[39m.\u001b[39mgateway_client\u001b[39m.\u001b[39msend_command(command)\n\u001b[1;32m-> 1322\u001b[0m return_value \u001b[39m=\u001b[39m get_return_value(\n\u001b[0;32m   1323\u001b[0m     answer, \u001b[39mself\u001b[39;49m\u001b[39m.\u001b[39;49mgateway_client, \u001b[39mself\u001b[39;49m\u001b[39m.\u001b[39;49mtarget_id, \u001b[39mself\u001b[39;49m\u001b[39m.\u001b[39;49mname)\n\u001b[0;32m   1325\u001b[0m \u001b[39mfor\u001b[39;00m temp_arg \u001b[39min\u001b[39;00m temp_args:\n\u001b[0;32m   1326\u001b[0m     \u001b[39mif\u001b[39;00m \u001b[39mhasattr\u001b[39m(temp_arg, \u001b[39m\"\u001b[39m\u001b[39m_detach\u001b[39m\u001b[39m\"\u001b[39m):\n",
      "File \u001b[1;32mc:\\Users\\Carol Erthal\\AppData\\Local\\Programs\\Python\\Python310\\lib\\site-packages\\pyspark\\errors\\exceptions\\captured.py:175\u001b[0m, in \u001b[0;36mcapture_sql_exception.<locals>.deco\u001b[1;34m(*a, **kw)\u001b[0m\n\u001b[0;32m    171\u001b[0m converted \u001b[39m=\u001b[39m convert_exception(e\u001b[39m.\u001b[39mjava_exception)\n\u001b[0;32m    172\u001b[0m \u001b[39mif\u001b[39;00m \u001b[39mnot\u001b[39;00m \u001b[39misinstance\u001b[39m(converted, UnknownException):\n\u001b[0;32m    173\u001b[0m     \u001b[39m# Hide where the exception came from that shows a non-Pythonic\u001b[39;00m\n\u001b[0;32m    174\u001b[0m     \u001b[39m# JVM exception message.\u001b[39;00m\n\u001b[1;32m--> 175\u001b[0m     \u001b[39mraise\u001b[39;00m converted \u001b[39mfrom\u001b[39;00m \u001b[39mNone\u001b[39m\n\u001b[0;32m    176\u001b[0m \u001b[39melse\u001b[39;00m:\n\u001b[0;32m    177\u001b[0m     \u001b[39mraise\u001b[39;00m\n",
      "\u001b[1;31mParseException\u001b[0m: \n[PARSE_SYNTAX_ERROR] Syntax error at or near '1'.(line 1, pos 15)\n\n== SQL ==\nEXISTS (SELECT 1 FROM (SELECT * FROM __THIS__) t WHERE t.plate = Column<'plate'> AND t.cum_sum = Column<'cum_sum'> - 10)\n---------------^^^\n"
     ]
    }
   ],
   "source": [
    "# analise alternativa\n",
    "windowDept = Window.partitionBy(\"plate\").orderBy(col(\"time\").desc())\n",
    "dfCalcs = dfCalcs.withColumn(\"row\",row_number().over(windowDept))\n",
    "\n",
    "# create column \"changed_y\" that is 1 if the car changed y and 0 otherwise\n",
    "dfCalcs = dfCalcs.withColumn(\"changed_lane\",\n",
    "                     F.when(((F.col(\"y\") != F.lag(\"y\", -1).over(windowDept))), 1) \\\n",
    "                        .otherwise(0))\n",
    "\n",
    "# create column \"over_road_speed\" that is 1 if the car is over the road speed and 0 otherwise\n",
    "dfCalcs = dfCalcs.withColumn(\"over_road_speed\",\n",
    "                        F.when(((F.col(\"speed\") > F.col(\"road_speed\"))), 1) \\\n",
    "                        .otherwise(0))\n",
    "\n",
    "# create column \"over_acc\" that is 1 if (acc>40 or acc<-40) and 0 otherwise\n",
    "dfCalcs = dfCalcs.withColumn(\"over_acc\",\n",
    "                        F.when(((F.col(\"acc\") > 40) | (F.col(\"acc\") < -40)), 1) \\\n",
    "                        .otherwise(0))\n",
    "\n",
    "# create a column \"total\" that is the sum of the previous columns for each car\n",
    "# we consider that changing lane 4 times counts as 1 case of unsafe driving REMEMBER TO DO THIS\n",
    "dfCalcs = dfCalcs.withColumn(\"total\", F.col(\"changed_lane\") + F.col(\"over_road_speed\") + F.col(\"over_acc\")).filter(F.col(\"total\") > 0)\n",
    "dfCalcs = dfCalcs.withColumn('cum_sum', F.sum('total').over(windowDept.rangeBetween(Window.unboundedPreceding, 0)))\n",
    "\n",
    "# for each cumsum > 10, check in row where cumsum = cumsum - 10 for that car and see if time is less than t\n",
    "# if it is, then the car has more than 10 infractions\n",
    "dfCalcs = dfCalcs.withColumn(\n",
    "    \"target\",\n",
    "    F.when(\n",
    "        (F.col(\"cum_sum\") >= 10) & (F.col(\"time\") > 20) & F.expr(\n",
    "            f\"EXISTS (SELECT 1 FROM t WHERE t.plate = {dfCalcs.plate} AND t.cum_sum = {dfCalcs.cum_sum} - 10)\"\n",
    "        ),\n",
    "        1\n",
    "    ).otherwise(0)\n",
    ")\n",
    "\n",
    "\n",
    "# show dfCalcs where several_infractions = 1\n",
    "dfCalcs = dfCalcs.filter(F.col(\"several_infractions\") == 1).select(\"plate\")\n",
    "                     \n",
    "# for each car compute the sum of the column \"total\" and filter the ones that are greater than 4\n",
    "# dfCalcs = dfCalcs.groupBy(\"plate\").sum(\"total\").withColumnRenamed(\"sum(total)\", \"total_infractions\").filter(F.col(\"total_infractions\") >= 4)\n",
    "\n",
    "#dfCalcs.collect()"
   ]
  }
 ],
 "metadata": {
  "kernelspec": {
   "display_name": "Python 3",
   "language": "python",
   "name": "python3"
  },
  "language_info": {
   "codemirror_mode": {
    "name": "ipython",
    "version": 3
   },
   "file_extension": ".py",
   "mimetype": "text/x-python",
   "name": "python",
   "nbconvert_exporter": "python",
   "pygments_lexer": "ipython3",
   "version": "3.10.7"
  },
  "orig_nbformat": 4
 },
 "nbformat": 4,
 "nbformat_minor": 2
}
